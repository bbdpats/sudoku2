{
 "cells": [
  {
   "cell_type": "code",
   "execution_count": 22,
   "metadata": {},
   "outputs": [
    {
     "name": "stdout",
     "output_type": "stream",
     "text": [
      "[2, 3, 1]\n",
      "[1, 2, 3]\n",
      "[3, 1, 2]\n"
     ]
    }
   ],
   "source": [
    "import random\n",
    "dat=random.sample(range(1,4),3)\n",
    "row1=dat\n",
    "row2=random.sample(range(1,4),3)\n",
    "row3=random.sample(range(1,4),3)\n",
    "while (row2[0]==row1[0]  or row2[1]==row1[1] or row2[2]==row1[2]):\n",
    "    row2=random.sample(range(1,4),3)\n",
    "while(True):\n",
    "    for i in range (1,4):\n",
    "        if row1[0] != i and row2[0] != i:\n",
    "            row3[0] = i\n",
    "    for i in range (1,4):\n",
    "        if row1[1] != i and row2[1] != i:\n",
    "            row3[1] = i\n",
    "    for i in range (1,4):\n",
    "        if row1[2] != i and row2[2] != i:\n",
    "            row3[2] = i\n",
    "    if row3[0]!=row3[1] and row3[0]!=row3[2] and row3[1]!=row3[2]:\n",
    "        break\n",
    "print(row1)\n",
    "print(row2)\n",
    "print(row3)"
   ]
  },
  {
   "cell_type": "code",
   "execution_count": 112,
   "metadata": {},
   "outputs": [
    {
     "name": "stdout",
     "output_type": "stream",
     "text": [
      "[1, 3, 2]\n",
      "[3, 2, 1]\n",
      "[2, 1, 3]\n"
     ]
    }
   ],
   "source": [
    "import random\n",
    "dat=random.sample(range(1,4),3)\n",
    "row1=dat\n",
    "row2=random.sample(range(1,4),3)\n",
    "row3=random.sample(range(1,4),3)\n",
    "while (row2[0]==row1[0]  or row2[1]==row1[1] or row2[2]==row1[2]):\n",
    "    row2=random.sample(range(1,4),3)\n",
    "while(True):\n",
    "    for i in range (1,4):\n",
    "        if row1[0] != i and row2[0] != i:\n",
    "            row3[0] = i\n",
    "    for i in range (1,4):\n",
    "        if row1[1] != i and row2[1] != i:\n",
    "            row3[1] = i\n",
    "    for i in range (1,4):\n",
    "        if row1[2] != i and row2[2] != i:\n",
    "            row3[2] = i\n",
    "    if row3[0]!=row3[1] and row3[0]!=row3[2] and row3[1]!=row3[2]:\n",
    "        break\n",
    "print(row1)\n",
    "print(row2)\n",
    "print(row3)"
   ]
  },
  {
   "cell_type": "code",
   "execution_count": 114,
   "metadata": {},
   "outputs": [
    {
     "name": "stdout",
     "output_type": "stream",
     "text": [
      "['_', '_', '2']\n",
      "['_', '2', '_']\n",
      "['2', '_', '_']\n"
     ]
    }
   ],
   "source": [
    "out=['_', '_', '_']\n",
    "inn=['_', '_', '_']\n",
    "inout=['_', '_', '_']\n",
    "for f in range(0,3):\n",
    "    if h[f] ==1:\n",
    "        out[f] = str(row1[f])\n",
    "print(out)\n",
    "for f in range(0,3):\n",
    "    if j[f] == 1:\n",
    "        inn[f] = str(row2[f])\n",
    "print(inn)    \n",
    "for f in range(0,3):\n",
    "    if k[f] == 1:\n",
    "        inout[f] = str(row3[f])\n",
    "print(inout)"
   ]
  },
  {
   "cell_type": "code",
   "execution_count": 109,
   "metadata": {},
   "outputs": [],
   "source": [
    "g=['_ '*5]"
   ]
  },
  {
   "cell_type": "code",
   "execution_count": 113,
   "metadata": {},
   "outputs": [],
   "source": [
    "h=[0,0,0]\n",
    "j=[0,0,0]\n",
    "k=[0,0,0]\n",
    "import random\n",
    "s=random.randint(0,2)\n",
    "u=random.randint(0,2)\n",
    "n=random.randint(0,2)\n",
    "h[s]=1\n",
    "j[u]=1\n",
    "k[n]=1"
   ]
  },
  {
   "cell_type": "code",
   "execution_count": 67,
   "metadata": {},
   "outputs": [
    {
     "data": {
      "text/plain": [
       "3"
      ]
     },
     "execution_count": 67,
     "metadata": {},
     "output_type": "execute_result"
    }
   ],
   "source": [
    "t"
   ]
  },
  {
   "cell_type": "code",
   "execution_count": 77,
   "metadata": {},
   "outputs": [
    {
     "name": "stdout",
     "output_type": "stream",
     "text": [
      "[1, 0, 0]\n",
      "[1, 0, 0]\n",
      "[0, 0, 1]\n"
     ]
    }
   ],
   "source": [
    "print(h)\n",
    "print(j)\n",
    "print(k)"
   ]
  },
  {
   "cell_type": "code",
   "execution_count": null,
   "metadata": {},
   "outputs": [],
   "source": [
    "d[0][0]"
   ]
  },
  {
   "cell_type": "code",
   "execution_count": null,
   "metadata": {},
   "outputs": [],
   "source": [
    "dat"
   ]
  }
 ],
 "metadata": {
  "kernelspec": {
   "display_name": "Python 3",
   "language": "python",
   "name": "python3"
  },
  "language_info": {
   "codemirror_mode": {
    "name": "ipython",
    "version": 3
   },
   "file_extension": ".py",
   "mimetype": "text/x-python",
   "name": "python",
   "nbconvert_exporter": "python",
   "pygments_lexer": "ipython3",
   "version": "3.7.4"
  }
 },
 "nbformat": 4,
 "nbformat_minor": 2
}
